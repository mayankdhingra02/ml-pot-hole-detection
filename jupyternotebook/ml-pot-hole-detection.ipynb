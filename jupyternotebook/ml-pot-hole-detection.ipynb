
# Basic Algorithm 
# Training 
# 1. Open a set of image files
# 2. Normalize image size 
# 3. Convert Into Gray scale
# 4. Apply filter and remove all noises
# 5. Detect circular regions > 150 cm
#
# Predict
#
